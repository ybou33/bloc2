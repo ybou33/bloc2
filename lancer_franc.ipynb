{
  "nbformat": 4,
  "nbformat_minor": 0,
  "metadata": {
    "kernelspec": {
      "display_name": "Python 3",
      "language": "python",
      "name": "python3"
    },
    "language_info": {
      "codemirror_mode": {
        "name": "ipython",
        "version": 3
      },
      "file_extension": ".py",
      "mimetype": "text/x-python",
      "name": "python",
      "nbconvert_exporter": "python",
      "pygments_lexer": "ipython3",
      "version": "3.6.6"
    },
    "colab": {
      "name": "lancer-franc.ipynb",
      "provenance": [],
      "include_colab_link": true
    },
    "widgets": {
      "application/vnd.jupyter.widget-state+json": {
        "c570d0b7ebdb42a7bd4f2c3d4b02fc95": {
          "model_module": "@jupyter-widgets/controls",
          "model_name": "VBoxModel",
          "state": {
            "_view_name": "VBoxView",
            "_dom_classes": [
              "widget-interact"
            ],
            "_model_name": "VBoxModel",
            "_view_module": "@jupyter-widgets/controls",
            "_model_module_version": "1.5.0",
            "_view_count": null,
            "_view_module_version": "1.5.0",
            "box_style": "",
            "layout": "IPY_MODEL_e4342a161c7f4de1afcc959476a58075",
            "_model_module": "@jupyter-widgets/controls",
            "children": [
              "IPY_MODEL_bc461f7b63c048168ee53721431881ec",
              "IPY_MODEL_6e694fd575a54a98856d1bc9985dda6f"
            ]
          }
        },
        "e4342a161c7f4de1afcc959476a58075": {
          "model_module": "@jupyter-widgets/base",
          "model_name": "LayoutModel",
          "state": {
            "_view_name": "LayoutView",
            "grid_template_rows": null,
            "right": null,
            "justify_content": null,
            "_view_module": "@jupyter-widgets/base",
            "overflow": null,
            "_model_module_version": "1.2.0",
            "_view_count": null,
            "flex_flow": null,
            "width": null,
            "min_width": null,
            "border": null,
            "align_items": null,
            "bottom": null,
            "_model_module": "@jupyter-widgets/base",
            "top": null,
            "grid_column": null,
            "overflow_y": null,
            "overflow_x": null,
            "grid_auto_flow": null,
            "grid_area": null,
            "grid_template_columns": null,
            "flex": null,
            "_model_name": "LayoutModel",
            "justify_items": null,
            "grid_row": null,
            "max_height": null,
            "align_content": null,
            "visibility": null,
            "align_self": null,
            "height": null,
            "min_height": null,
            "padding": null,
            "grid_auto_rows": null,
            "grid_gap": null,
            "max_width": null,
            "order": null,
            "_view_module_version": "1.2.0",
            "grid_template_areas": null,
            "object_position": null,
            "object_fit": null,
            "grid_auto_columns": null,
            "margin": null,
            "display": null,
            "left": null
          }
        },
        "bc461f7b63c048168ee53721431881ec": {
          "model_module": "@jupyter-widgets/controls",
          "model_name": "IntSliderModel",
          "state": {
            "_view_name": "IntSliderView",
            "style": "IPY_MODEL_c2b10a0f38a644cc805ab2420ebf2ceb",
            "_dom_classes": [],
            "description": "i",
            "step": 1,
            "_model_name": "IntSliderModel",
            "orientation": "horizontal",
            "max": 17,
            "_view_module": "@jupyter-widgets/controls",
            "_model_module_version": "1.5.0",
            "value": 10,
            "_view_count": null,
            "disabled": false,
            "_view_module_version": "1.5.0",
            "min": 0,
            "continuous_update": true,
            "readout_format": "d",
            "description_tooltip": null,
            "readout": true,
            "_model_module": "@jupyter-widgets/controls",
            "layout": "IPY_MODEL_04b5616bd5b843d18397fda5e7441b98"
          }
        },
        "6e694fd575a54a98856d1bc9985dda6f": {
          "model_module": "@jupyter-widgets/output",
          "model_name": "OutputModel",
          "state": {
            "_view_name": "OutputView",
            "msg_id": "",
            "_dom_classes": [],
            "_model_name": "OutputModel",
            "outputs": [
              {
                "output_type": "display_data",
                "metadata": {
                  "tags": []
                },
                "image/png": "iVBORw0KGgoAAAANSUhEUgAAAXkAAADoCAYAAAAKTpRvAAAABHNCSVQICAgIfAhkiAAAAAlwSFlz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\n",
                "text/plain": "<Figure size 432x288 with 1 Axes>"
              }
            ],
            "_view_module": "@jupyter-widgets/output",
            "_model_module_version": "1.0.0",
            "_view_count": null,
            "_view_module_version": "1.0.0",
            "layout": "IPY_MODEL_fe478e6db8de4c76802bb3ea4e459037",
            "_model_module": "@jupyter-widgets/output"
          }
        },
        "c2b10a0f38a644cc805ab2420ebf2ceb": {
          "model_module": "@jupyter-widgets/controls",
          "model_name": "SliderStyleModel",
          "state": {
            "_view_name": "StyleView",
            "handle_color": null,
            "_model_name": "SliderStyleModel",
            "description_width": "",
            "_view_module": "@jupyter-widgets/base",
            "_model_module_version": "1.5.0",
            "_view_count": null,
            "_view_module_version": "1.2.0",
            "_model_module": "@jupyter-widgets/controls"
          }
        },
        "04b5616bd5b843d18397fda5e7441b98": {
          "model_module": "@jupyter-widgets/base",
          "model_name": "LayoutModel",
          "state": {
            "_view_name": "LayoutView",
            "grid_template_rows": null,
            "right": null,
            "justify_content": null,
            "_view_module": "@jupyter-widgets/base",
            "overflow": null,
            "_model_module_version": "1.2.0",
            "_view_count": null,
            "flex_flow": null,
            "width": null,
            "min_width": null,
            "border": null,
            "align_items": null,
            "bottom": null,
            "_model_module": "@jupyter-widgets/base",
            "top": null,
            "grid_column": null,
            "overflow_y": null,
            "overflow_x": null,
            "grid_auto_flow": null,
            "grid_area": null,
            "grid_template_columns": null,
            "flex": null,
            "_model_name": "LayoutModel",
            "justify_items": null,
            "grid_row": null,
            "max_height": null,
            "align_content": null,
            "visibility": null,
            "align_self": null,
            "height": null,
            "min_height": null,
            "padding": null,
            "grid_auto_rows": null,
            "grid_gap": null,
            "max_width": null,
            "order": null,
            "_view_module_version": "1.2.0",
            "grid_template_areas": null,
            "object_position": null,
            "object_fit": null,
            "grid_auto_columns": null,
            "margin": null,
            "display": null,
            "left": null
          }
        },
        "98401fd026d1470a86db151c84f519fa": {
          "model_module": "@jupyter-widgets/controls",
          "model_name": "VBoxModel",
          "state": {
            "_view_name": "VBoxView",
            "_dom_classes": [
              "widget-interact"
            ],
            "_model_name": "VBoxModel",
            "_view_module": "@jupyter-widgets/controls",
            "_model_module_version": "1.5.0",
            "_view_count": null,
            "_view_module_version": "1.5.0",
            "box_style": "",
            "layout": "IPY_MODEL_f8cb134d2b724796958f2bbb60c83875",
            "_model_module": "@jupyter-widgets/controls",
            "children": [
              "IPY_MODEL_7e7b82a897f24daa99b5c084f2d1ec18",
              "IPY_MODEL_7fd1caa764544f88bb853f5fe2f2b5ee"
            ]
          }
        },
        "f8cb134d2b724796958f2bbb60c83875": {
          "model_module": "@jupyter-widgets/base",
          "model_name": "LayoutModel",
          "state": {
            "_view_name": "LayoutView",
            "grid_template_rows": null,
            "right": null,
            "justify_content": null,
            "_view_module": "@jupyter-widgets/base",
            "overflow": null,
            "_model_module_version": "1.2.0",
            "_view_count": null,
            "flex_flow": null,
            "width": null,
            "min_width": null,
            "border": null,
            "align_items": null,
            "bottom": null,
            "_model_module": "@jupyter-widgets/base",
            "top": null,
            "grid_column": null,
            "overflow_y": null,
            "overflow_x": null,
            "grid_auto_flow": null,
            "grid_area": null,
            "grid_template_columns": null,
            "flex": null,
            "_model_name": "LayoutModel",
            "justify_items": null,
            "grid_row": null,
            "max_height": null,
            "align_content": null,
            "visibility": null,
            "align_self": null,
            "height": null,
            "min_height": null,
            "padding": null,
            "grid_auto_rows": null,
            "grid_gap": null,
            "max_width": null,
            "order": null,
            "_view_module_version": "1.2.0",
            "grid_template_areas": null,
            "object_position": null,
            "object_fit": null,
            "grid_auto_columns": null,
            "margin": null,
            "display": null,
            "left": null
          }
        },
        "7e7b82a897f24daa99b5c084f2d1ec18": {
          "model_module": "@jupyter-widgets/controls",
          "model_name": "IntSliderModel",
          "state": {
            "_view_name": "IntSliderView",
            "style": "IPY_MODEL_e5490d3510ee41e891933f273cece524",
            "_dom_classes": [],
            "description": "i",
            "step": 1,
            "_model_name": "IntSliderModel",
            "orientation": "horizontal",
            "max": 17,
            "_view_module": "@jupyter-widgets/controls",
            "_model_module_version": "1.5.0",
            "value": 9,
            "_view_count": null,
            "disabled": false,
            "_view_module_version": "1.5.0",
            "min": 0,
            "continuous_update": true,
            "readout_format": "d",
            "description_tooltip": null,
            "readout": true,
            "_model_module": "@jupyter-widgets/controls",
            "layout": "IPY_MODEL_0d8dff47a1094ebdb3cb094e98d720b5"
          }
        },
        "7fd1caa764544f88bb853f5fe2f2b5ee": {
          "model_module": "@jupyter-widgets/output",
          "model_name": "OutputModel",
          "state": {
            "_view_name": "OutputView",
            "msg_id": "",
            "_dom_classes": [],
            "_model_name": "OutputModel",
            "outputs": [
              {
                "output_type": "display_data",
                "metadata": {
                  "tags": []
                },
                "image/png": "iVBORw0KGgoAAAANSUhEUgAAAXkAAADoCAYAAAAKTpRvAAAABHNCSVQICAgIfAhkiAAAAAlwSFlz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\nQmCC\n",
                "text/plain": "<Figure size 432x288 with 1 Axes>"
              }
            ],
            "_view_module": "@jupyter-widgets/output",
            "_model_module_version": "1.0.0",
            "_view_count": null,
            "_view_module_version": "1.0.0",
            "layout": "IPY_MODEL_2912545b4a484de6b311addc11fbc799",
            "_model_module": "@jupyter-widgets/output"
          }
        },
        "e5490d3510ee41e891933f273cece524": {
          "model_module": "@jupyter-widgets/controls",
          "model_name": "SliderStyleModel",
          "state": {
            "_view_name": "StyleView",
            "handle_color": null,
            "_model_name": "SliderStyleModel",
            "description_width": "",
            "_view_module": "@jupyter-widgets/base",
            "_model_module_version": "1.5.0",
            "_view_count": null,
            "_view_module_version": "1.2.0",
            "_model_module": "@jupyter-widgets/controls"
          }
        },
        "0d8dff47a1094ebdb3cb094e98d720b5": {
          "model_module": "@jupyter-widgets/base",
          "model_name": "LayoutModel",
          "state": {
            "_view_name": "LayoutView",
            "grid_template_rows": null,
            "right": null,
            "justify_content": null,
            "_view_module": "@jupyter-widgets/base",
            "overflow": null,
            "_model_module_version": "1.2.0",
            "_view_count": null,
            "flex_flow": null,
            "width": null,
            "min_width": null,
            "border": null,
            "align_items": null,
            "bottom": null,
            "_model_module": "@jupyter-widgets/base",
            "top": null,
            "grid_column": null,
            "overflow_y": null,
            "overflow_x": null,
            "grid_auto_flow": null,
            "grid_area": null,
            "grid_template_columns": null,
            "flex": null,
            "_model_name": "LayoutModel",
            "justify_items": null,
            "grid_row": null,
            "max_height": null,
            "align_content": null,
            "visibility": null,
            "align_self": null,
            "height": null,
            "min_height": null,
            "padding": null,
            "grid_auto_rows": null,
            "grid_gap": null,
            "max_width": null,
            "order": null,
            "_view_module_version": "1.2.0",
            "grid_template_areas": null,
            "object_position": null,
            "object_fit": null,
            "grid_auto_columns": null,
            "margin": null,
            "display": null,
            "left": null
          }
        }
      }
    }
  },
  "cells": [
    {
      "cell_type": "markdown",
      "metadata": {
        "id": "view-in-github",
        "colab_type": "text"
      },
      "source": [
        "<a href=\"https://colab.research.google.com/github/ybou33/bloc2/blob/master/lancer_franc.ipynb\" target=\"_parent\"><img src=\"https://colab.research.google.com/assets/colab-badge.svg\" alt=\"Open In Colab\"/></a>"
      ]
    },
    {
      "cell_type": "code",
      "metadata": {
        "id": "rBUHHwDwbp5Z",
        "colab_type": "code",
        "colab": {}
      },
      "source": [
        "t=[0.0, 0.0333333, 0.0666666, 0.0999999, 0.1333332, 0.1666665, 0.1999998, 0.2333331, 0.2666664,\n",
        "   0.2999997, 0.333333, 0.3666663, 0.3999996, 0.4333329, 0.4666662, 0.4999995, 0.5333328, 0.5666661, 0.5999994, 0.6333327]\n",
        "x=[0.00256612712198984, 0.0657323332017372, 0.136794315041453, 0.211804184761153, 0.2749703908409, 0.342084484800632, 0.413146466640347, 0.480260560600079, 0.543426766679826, 0.614488748519542, 0.677654954599289, 0.752664824318989, 0.811883142518752, 0.882945124358468, 0.946111330438215, 1.01322542439795, 1.08428740623766,\n",
        "   1.14745361231741, 1.21061981839716, 1.2737860244769]\n",
        "y=[0.00340505329648632, 0.094206474536123, 0.165268456375839, 0.224486774575602, 0.275809317015397, 0.30739242005527, 0.338975523095144, 0.354767074615081, 0.362662850375049, 0.366610738255033, 0.350819186735097, 0.327131859455191, 0.287652980655349, 0.244226213975523, 0.188955783655744, 0.133685353335965, 0.0349881563363599,\n",
        "      -0.0360738255033558, -0.142666798262929, -0.245311883142519]"
      ],
      "execution_count": 0,
      "outputs": []
    },
    {
      "cell_type": "code",
      "metadata": {
        "id": "3yncQUbIbp5w",
        "colab_type": "code",
        "colab": {
          "base_uri": "https://localhost:8080/",
          "height": 264
        },
        "outputId": "0a48299d-319c-46b1-80f2-125c6325165f"
      },
      "source": [
        "import matplotlib.pyplot as plt\n",
        "plt.scatter(x,y, color='coral', linestyle='solid', label='y=f(x)')\n",
        "plt.axis('equal')\n",
        "ax = plt.gca()\n",
        "ax.spines['right'].set_color('none')\n",
        "ax.spines['top'].set_color('none')\n",
        "ax.xaxis.set_ticks_position('bottom')\n",
        "ax.spines['bottom'].set_position(('data',0))\n",
        "ax.yaxis.set_ticks_position('left')\n",
        "ax.spines['left'].set_position(('data',0))\n",
        "plt.title('Trajectoire : y=f(x)',color=\"coral\", fontsize=12)\n",
        "ax = ax.set(xlabel='x (en m)', ylabel='y (en m)')\n",
        "plt.legend(loc='lower center');\n",
        "plt.show()"
      ],
      "execution_count": 2,
      "outputs": [
        {
          "output_type": "display_data",
          "data": {
            "image/png": "[encoded data removed]",
            "text/plain": [
              "<Figure size 432x288 with 1 Axes>"
            ]
          },
          "metadata": {
            "tags": []
          }
        }
      ]
    },
    {
      "cell_type": "code",
      "metadata": {
        "id": "_DZtF4S5bp54",
        "colab_type": "code",
        "colab": {}
      },
      "source": [
        "vx=[0.0]\n",
        "for i in range(1,len(t)-2):\n",
        "    a=(x[i+1]-x[i-1])/(t[i+1]-t[i-1])\n",
        "    vx.append(a)\n",
        "    \n",
        "vy=[0.0]\n",
        "for i in range(1,len(t)-2):\n",
        "    a=(y[i+1]-y[i-1])/(t[i+1]-t[i-1])\n",
        "    vy.append(a)\n",
        "    vx"
      ],
      "execution_count": 0,
      "outputs": []
    },
    {
      "cell_type": "code",
      "metadata": {
        "id": "BQsxiL4ubp5-",
        "colab_type": "code",
        "colab": {
          "base_uri": "https://localhost:8080/",
          "height": 198
        },
        "outputId": "8cc7ca76-97b5-4a76-d070-dd403a645123"
      },
      "source": [
        "import math\n",
        "v=[]\n",
        "for i in range(1,len(t)-2):\n",
        "    v.append(np.round(math.sqrt(vx[i]**2+vy[i]**2),2))"
      ],
      "execution_count": 4,
      "outputs": [
        {
          "output_type": "error",
          "ename": "NameError",
          "evalue": "ignored",
          "traceback": [
            "\u001b[0;31m---------------------------------------------------------------------------\u001b[0m",
            "\u001b[0;31mNameError\u001b[0m                                 Traceback (most recent call last)",
            "\u001b[0;32m<ipython-input-4-327a5f3a7e9d>\u001b[0m in \u001b[0;36m<module>\u001b[0;34m()\u001b[0m\n\u001b[1;32m      2\u001b[0m \u001b[0mv\u001b[0m\u001b[0;34m=\u001b[0m\u001b[0;34m[\u001b[0m\u001b[0;34m]\u001b[0m\u001b[0;34m\u001b[0m\u001b[0;34m\u001b[0m\u001b[0m\n\u001b[1;32m      3\u001b[0m \u001b[0;32mfor\u001b[0m \u001b[0mi\u001b[0m \u001b[0;32min\u001b[0m \u001b[0mrange\u001b[0m\u001b[0;34m(\u001b[0m\u001b[0;36m1\u001b[0m\u001b[0;34m,\u001b[0m\u001b[0mlen\u001b[0m\u001b[0;34m(\u001b[0m\u001b[0mt\u001b[0m\u001b[0;34m)\u001b[0m\u001b[0;34m-\u001b[0m\u001b[0;36m2\u001b[0m\u001b[0;34m)\u001b[0m\u001b[0;34m:\u001b[0m\u001b[0;34m\u001b[0m\u001b[0;34m\u001b[0m\u001b[0m\n\u001b[0;32m----> 4\u001b[0;31m     \u001b[0mv\u001b[0m\u001b[0;34m.\u001b[0m\u001b[0mappend\u001b[0m\u001b[0;34m(\u001b[0m\u001b[0mnp\u001b[0m\u001b[0;34m.\u001b[0m\u001b[0mround\u001b[0m\u001b[0;34m(\u001b[0m\u001b[0mmath\u001b[0m\u001b[0;34m.\u001b[0m\u001b[0msqrt\u001b[0m\u001b[0;34m(\u001b[0m\u001b[0mvx\u001b[0m\u001b[0;34m[\u001b[0m\u001b[0mi\u001b[0m\u001b[0;34m]\u001b[0m\u001b[0;34m**\u001b[0m\u001b[0;36m2\u001b[0m\u001b[0;34m+\u001b[0m\u001b[0mvy\u001b[0m\u001b[0;34m[\u001b[0m\u001b[0mi\u001b[0m\u001b[0;34m]\u001b[0m\u001b[0;34m**\u001b[0m\u001b[0;36m2\u001b[0m\u001b[0;34m)\u001b[0m\u001b[0;34m,\u001b[0m\u001b[0;36m2\u001b[0m\u001b[0;34m)\u001b[0m\u001b[0;34m)\u001b[0m\u001b[0;34m\u001b[0m\u001b[0;34m\u001b[0m\u001b[0m\n\u001b[0m",
            "\u001b[0;31mNameError\u001b[0m: name 'np' is not defined"
          ]
        }
      ]
    },
    {
      "cell_type": "code",
      "metadata": {
        "id": "R_yQLT1jbp6E",
        "colab_type": "code",
        "colab": {
          "base_uri": "https://localhost:8080/",
          "height": 264
        },
        "outputId": "091fcc98-c364-4e4c-a99b-d4e09973e699"
      },
      "source": [
        "i=8\n",
        "plt.scatter(x,y)\n",
        "axe = plt.gca()\n",
        "avx=vx[i]/5\n",
        "avy=vy[i]/5\n",
        "bx=vx[i+1]/5\n",
        "by=vy[i+1]/5\n",
        "cx=bx-avx\n",
        "cy=by-avy\n",
        "axe.arrow(x[i],y[i],avx,avy, head_width=0.05, head_length=0.05, fc='lightblue', ec='red')\n",
        "axe.arrow(x[i],y[i],bx,by, head_width=0.05, head_length=0.05, fc='lightblue', ec='green')\n",
        "axe.arrow(x[i],y[i],cx,cy, head_width=0.1, head_length=0.05, fc='lightblue', ec='blue')\n",
        "axe.spines['right'].set_color('none')\n",
        "axe.spines['top'].set_color('none')\n",
        "axe.xaxis.set_ticks_position('bottom')\n",
        "axe.spines['bottom'].set_position(('data',0))\n",
        "axe.yaxis.set_ticks_position('left')\n",
        "axe.spines['left'].set_position(('data',0))\n",
        "plt.title('vecteur vitesse et variation',color=\"coral\", fontsize=12)\n",
        "axe = axe.set(xlabel='x (en m)', ylabel='y (en m)')\n",
        "plt.show()\n"
      ],
      "execution_count": 5,
      "outputs": [
        {
          "output_type": "display_data",
          "data": {
            "image/png": "[encoded data removed]",
            "text/plain": [
              "<Figure size 432x288 with 1 Axes>"
            ]
          },
          "metadata": {
            "tags": []
          }
        }
      ]
    },
    {
      "cell_type": "code",
      "metadata": {
        "id": "Qo_FRsQfbp6P",
        "colab_type": "code",
        "colab": {
          "base_uri": "https://localhost:8080/",
          "height": 284
        },
        "outputId": "a4c93fd1-e70e-46ff-fad7-c6a803acce17"
      },
      "source": [
        "plt.scatter(t,x)\n",
        "ax = plt.gca()\n",
        "ax.spines['right'].set_color('none')\n",
        "ax.spines['top'].set_color('none')\n",
        "ax.xaxis.set_ticks_position('bottom')\n",
        "ax.spines['bottom'].set_position(('data',0))\n",
        "ax.yaxis.set_ticks_position('left')\n",
        "ax.spines['left'].set_position(('data',0))\n",
        "plt.title('équation horaire : x=f(t)',color=\"coral\", fontsize=12)\n",
        "ax = ax.set(xlabel='t (en s)', ylabel='x (en m)')\n",
        "plt.show()"
      ],
      "execution_count": 6,
      "outputs": [
        {
          "output_type": "display_data",
          "data": {
            "image/png": "[encoded data removed]",
            "text/plain": [
              "<Figure size 432x288 with 1 Axes>"
            ]
          },
          "metadata": {
            "tags": []
          }
        }
      ]
    },
    {
      "cell_type": "code",
      "metadata": {
        "id": "ubZnXjSYbp6V",
        "colab_type": "code",
        "colab": {
          "base_uri": "https://localhost:8080/",
          "height": 264
        },
        "outputId": "01e2ddb1-98f2-4fa3-b29d-b1ce3e5cbef9"
      },
      "source": [
        "plt.scatter(t,y)\n",
        "ax = plt.gca()\n",
        "ax.spines['right'].set_color('none')\n",
        "ax.spines['top'].set_color('none')\n",
        "ax.xaxis.set_ticks_position('bottom')\n",
        "ax.spines['bottom'].set_position(('data',0))\n",
        "ax.yaxis.set_ticks_position('left')\n",
        "ax.spines['left'].set_position(('data',0))\n",
        "plt.title('équation horaire : y=f(t)',color=\"coral\", fontsize=12)\n",
        "ax = ax.set(xlabel='t (en s)', ylabel='y (en m)')\n",
        "plt.show()"
      ],
      "execution_count": 7,
      "outputs": [
        {
          "output_type": "display_data",
          "data": {
            "image/png": "[encoded data removed]",
            "text/plain": [
              "<Figure size 432x288 with 1 Axes>"
            ]
          },
          "metadata": {
            "tags": []
          }
        }
      ]
    },
    {
      "cell_type": "code",
      "metadata": {
        "id": "TTGC2fTzbp6b",
        "colab_type": "code",
        "colab": {
          "base_uri": "https://localhost:8080/",
          "height": 298,
          "referenced_widgets": [
            "c570d0b7ebdb42a7bd4f2c3d4b02fc95",
            "e4342a161c7f4de1afcc959476a58075",
            "bc461f7b63c048168ee53721431881ec",
            "6e694fd575a54a98856d1bc9985dda6f",
            "c2b10a0f38a644cc805ab2420ebf2ceb",
            "04b5616bd5b843d18397fda5e7441b98"
          ]
        },
        "outputId": "8dfd2982-e1b9-44b7-eef0-4946253a17df"
      },
      "source": [
        "from __future__ import print_function\n",
        "from ipywidgets import interact, interactive, fixed, interact_manual\n",
        "import ipywidgets\n",
        "def vecteur(i):\n",
        "    plt.scatter(x,y)\n",
        "    axe = plt.gca()\n",
        "    avx=vx[i-1]/8\n",
        "    avy=vy[i-1]/8\n",
        "    bx=vx[i+1]/8\n",
        "    by=vy[i+1]/8\n",
        "    cx=bx-avx\n",
        "    cy=by-avy\n",
        "    axe.arrow(x[i],y[i],avx,avy, head_width=0.03, head_length=0.03, fc='lightblue', ec='red')\n",
        "    axe.arrow(x[i],y[i],bx,by, head_width=0.03, head_length=0.03, fc='lightblue', ec='green')\n",
        "    axe.arrow(x[i],y[i],cx,cy, head_width=0.03, head_length=0.03, fc='lightblue', ec='blue')\n",
        "    axe.spines['right'].set_color('none')\n",
        "    axe.spines['top'].set_color('none')\n",
        "    axe.xaxis.set_ticks_position('bottom')\n",
        "    axe.spines['bottom'].set_position(('data',0))\n",
        "    axe.yaxis.set_ticks_position('left')\n",
        "    axe.spines['left'].set_position(('data',0))\n",
        "   #plt.title('vecteur vitesse et variation',color=\"coral\", fontsize=12)\n",
        "    axe = axe.set(xlabel='x (en m)', ylabel='y (en m)')\n",
        "    plt.show()\n",
        "interact (vecteur,i=(0,17,1))"
      ],
      "execution_count": 8,
      "outputs": [
        {
          "output_type": "display_data",
          "data": {
            "application/vnd.jupyter.widget-view+json": {
              "model_id": "c570d0b7ebdb42a7bd4f2c3d4b02fc95",
              "version_minor": 0,
              "version_major": 2
            },
            "text/plain": [
              "interactive(children=(IntSlider(value=8, description='i', max=17), Output()), _dom_classes=('widget-interact',…"
            ]
          },
          "metadata": {
            "tags": []
          }
        },
        {
          "output_type": "execute_result",
          "data": {
            "text/plain": [
              "<function __main__.vecteur>"
            ]
          },
          "metadata": {
            "tags": []
          },
          "execution_count": 8
        }
      ]
    },
    {
      "cell_type": "code",
      "metadata": {
        "id": "l0t5q2gubp6h",
        "colab_type": "code",
        "colab": {
          "base_uri": "https://localhost:8080/",
          "height": 298,
          "referenced_widgets": [
            "98401fd026d1470a86db151c84f519fa",
            "f8cb134d2b724796958f2bbb60c83875",
            "7e7b82a897f24daa99b5c084f2d1ec18",
            "7fd1caa764544f88bb853f5fe2f2b5ee",
            "e5490d3510ee41e891933f273cece524",
            "0d8dff47a1094ebdb3cb094e98d720b5"
          ]
        },
        "outputId": "47c524ba-b9ed-4121-da79-f7dbd25a00c8"
      },
      "source": [
        "from __future__ import print_function\n",
        "from ipywidgets import interact, interactive, fixed, interact_manual\n",
        "import ipywidgets\n",
        "def vecteur(i):\n",
        "    plt.scatter(x,y)\n",
        "    axe = plt.gca()\n",
        "    avx=vx[i]/8\n",
        "    avy=vy[i]/8\n",
        "    bx=vx[i+1]/8\n",
        "    by=vy[i+1]/8\n",
        "    cx=bx-avx\n",
        "    cy=by-avy\n",
        "    axe.arrow(x[i],y[i],avx,avy, head_width=0.03, head_length=0.03, fc='lightblue', ec='red')\n",
        "    axe.arrow(x[i],y[i],bx,by, head_width=0.03, head_length=0.03, fc='lightblue', ec='green')\n",
        "    axe.arrow(x[i],y[i],cx,cy, head_width=0.03, head_length=0.03, fc='lightblue', ec='blue')\n",
        "    axe.spines['right'].set_color('none')\n",
        "    axe.spines['top'].set_color('none')\n",
        "    axe.xaxis.set_ticks_position('bottom')\n",
        "    axe.spines['bottom'].set_position(('data',0))\n",
        "    axe.yaxis.set_ticks_position('left')\n",
        "    axe.spines['left'].set_position(('data',0))\n",
        "   #plt.title('vecteur vitesse et variation',color=\"coral\", fontsize=12)\n",
        "    axe = axe.set(xlabel='x (en m)', ylabel='y (en m)')\n",
        "    plt.show()\n",
        "interact (vecteur,i=(0,17,1))"
      ],
      "execution_count": 9,
      "outputs": [
        {
          "output_type": "display_data",
          "data": {
            "application/vnd.jupyter.widget-view+json": {
              "model_id": "98401fd026d1470a86db151c84f519fa",
              "version_minor": 0,
              "version_major": 2
            },
            "text/plain": [
              "interactive(children=(IntSlider(value=8, description='i', max=17), Output()), _dom_classes=('widget-interact',…"
            ]
          },
          "metadata": {
            "tags": []
          }
        },
        {
          "output_type": "execute_result",
          "data": {
            "text/plain": [
              "<function __main__.vecteur>"
            ]
          },
          "metadata": {
            "tags": []
          },
          "execution_count": 9
        }
      ]
    },
    {
      "cell_type": "code",
      "metadata": {
        "id": "nTfN5R6Qbp6n",
        "colab_type": "code",
        "colab": {}
      },
      "source": [
        ""
      ],
      "execution_count": 0,
      "outputs": []
    }
  ]
}