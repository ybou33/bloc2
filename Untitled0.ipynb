{
  "nbformat": 4,
  "nbformat_minor": 0,
  "metadata": {
    "colab": {
      "name": "Untitled0.ipynb",
      "provenance": [],
      "collapsed_sections": [],
      "include_colab_link": true
    },
    "kernelspec": {
      "name": "python3",
      "display_name": "Python 3"
    },
    "accelerator": "GPU"
  },
  "cells": [
    {
      "cell_type": "markdown",
      "metadata": {
        "id": "view-in-github",
        "colab_type": "text"
      },
      "source": [
        "<a href=\"https://colab.research.google.com/github/ybou33/bloc2/blob/master/Untitled0.ipynb\" target=\"_parent\"><img src=\"https://colab.research.google.com/assets/colab-badge.svg\" alt=\"Open In Colab\"/></a>"
      ]
    },
    {
      "cell_type": "markdown",
      "metadata": {
        "id": "acA3HsSZHU29",
        "colab_type": "text"
      },
      "source": [
        "**Conversion d'un nombre en base 2 avec la fonction bin()**\n"
      ]
    },
    {
      "cell_type": "code",
      "metadata": {
        "id": "lP9AIbYNG_a9",
        "colab_type": "code",
        "colab": {}
      },
      "source": [
        "nombre=21\n",
        "bin(nombre)"
      ],
      "execution_count": 0,
      "outputs": []
    },
    {
      "cell_type": "markdown",
      "metadata": {
        "id": "nY0NmNYGV_rb",
        "colab_type": "text"
      },
      "source": [
        "*Python interprète les nombres commençant par 0b comme des nombres binaires*"
      ]
    },
    {
      "cell_type": "code",
      "metadata": {
        "id": "Y85-MmGZI3Ao",
        "colab_type": "code",
        "colab": {}
      },
      "source": [
        "a=0b1100\n",
        "print(a)"
      ],
      "execution_count": 0,
      "outputs": []
    },
    {
      "cell_type": "markdown",
      "metadata": {
        "id": "B3_RZPEVHsab",
        "colab_type": "text"
      },
      "source": [
        "**Conversion d'un nombre en base 16 avec la fonction hex()**"
      ]
    },
    {
      "cell_type": "code",
      "metadata": {
        "id": "4Wd4mbbSWVCg",
        "colab_type": "code",
        "colab": {}
      },
      "source": [
        "a=31\n",
        "nombre=hex(a)\n",
        "print(nombre)"
      ],
      "execution_count": 0,
      "outputs": []
    },
    {
      "cell_type": "code",
      "metadata": {
        "id": "g8VK2bvBWqXO",
        "colab_type": "code",
        "colab": {}
      },
      "source": [
        "a=0x1F\n",
        "print(a)"
      ],
      "execution_count": 0,
      "outputs": []
    },
    {
      "cell_type": "markdown",
      "metadata": {
        "id": "n3DrUGr_W4Rq",
        "colab_type": "text"
      },
      "source": [
        "*Expliquez le résultat de l'opération ci-dessous*"
      ]
    },
    {
      "cell_type": "code",
      "metadata": {
        "id": "4MPJ7_cNXA5N",
        "colab_type": "code",
        "colab": {}
      },
      "source": [
        "a=0x1f+0b1100\n",
        "print(a)"
      ],
      "execution_count": 0,
      "outputs": []
    },
    {
      "cell_type": "markdown",
      "metadata": {
        "id": "REU15TMxXRrp",
        "colab_type": "text"
      },
      "source": [
        "**Convertisseur en base 2 et 16**"
      ]
    },
    {
      "cell_type": "code",
      "metadata": {
        "id": "rc0ON2tuGw16",
        "colab_type": "code",
        "colab": {}
      },
      "source": [
        "nombre=int(input(\"entier en base 10 : \"))\n",
        "print(\"en base 2 : \"+ str(bin(nombre))[2:])\n",
        "print(\"en base 16 : \"+ str(hex(nombre))[2:])"
      ],
      "execution_count": 0,
      "outputs": []
    },
    {
      "cell_type": "markdown",
      "metadata": {
        "id": "VgqI6e5QJFU6",
        "colab_type": "text"
      },
      "source": [
        "*Tester la fonction ci-dessous puis expliquez.*"
      ]
    },
    {
      "cell_type": "code",
      "metadata": {
        "id": "3hIA3KNsheJS",
        "colab_type": "code",
        "colab": {}
      },
      "source": [
        "def binaire(n):\n",
        "           q=n\n",
        "           bin=''\n",
        "           while q!=0:\n",
        "                      r=q%2\n",
        "                      q=q//2\n",
        "                      bin=str(r)+bin\n",
        "           return bin"
      ],
      "execution_count": 0,
      "outputs": []
    },
    {
      "cell_type": "markdown",
      "metadata": {
        "id": "5QOHf015hNs4",
        "colab_type": "text"
      },
      "source": [
        ""
      ]
    },
    {
      "cell_type": "code",
      "metadata": {
        "id": "YTGac4u-hpUh",
        "colab_type": "code",
        "colab": {}
      },
      "source": [
        "a=124\n",
        "nombre=binaire(a)\n",
        "print(nombre)"
      ],
      "execution_count": 0,
      "outputs": []
    }
  ]
}